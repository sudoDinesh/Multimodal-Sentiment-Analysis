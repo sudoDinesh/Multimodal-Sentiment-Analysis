{
 "cells": [
  {
   "cell_type": "code",
   "execution_count": 1,
   "metadata": {},
   "outputs": [],
   "source": [
    "import os\n",
    "import pandas as pd\n",
    "\n",
    "# Define paths\n",
    "images_dir = r'/Users/dinesh/College/final proj/attempt2/MVSA_Single/data'\n",
    "texts_dir = r'/Users/dinesh/College/final proj/attempt2/MVSA_Single/data'\n",
    "csv_file_path = r'/Users/dinesh/College/final proj/attempt2/MVSA_Single/labels.csv'\n",
    "\n",
    "# Read the CSV file\n",
    "df = pd.read_csv(csv_file_path)"
   ]
  },
  {
   "cell_type": "code",
   "execution_count": 2,
   "metadata": {},
   "outputs": [
    {
     "name": "stdout",
     "output_type": "stream",
     "text": [
      "Cleaned and synchronized the dataset. Updated CSV file at /Users/dinesh/College/final proj/attemp2/MVSA_Single/Sentiment.csv.\n"
     ]
    }
   ],
   "source": [
    "\n",
    "# Find the existing IDs in the CSV\n",
    "existing_ids = set(df['id'].tolist())\n",
    "\n",
    "# Check for missing image and text f\n",
    "# iles and identify valid IDs\n",
    "valid_ids = set()\n",
    "\n",
    "for file_id in existing_ids:\n",
    "    image_path = os.path.join(images_dir, f'{file_id}.jpg')\n",
    "    text_path = os.path.join(texts_dir, f'{file_id}.txt')\n",
    "    \n",
    "    if os.path.isfile(image_path) and os.path.isfile(text_path):\n",
    "        valid_ids.add(file_id)\n",
    "\n",
    "# Identify invalid IDs\n",
    "invalid_ids = existing_ids - valid_ids\n",
    "\n",
    "# Remove rows from the DataFrame that are not in valid_ids\n",
    "df = df[df['id'].isin(valid_ids)]\n",
    "\n",
    "# Remove any image or text files that are in invalid_ids\n",
    "for file_name in os.listdir(images_dir):\n",
    "    if file_name.endswith('.jpg'):\n",
    "        file_id = int(os.path.splitext(file_name)[0])\n",
    "        if file_id in invalid_ids:\n",
    "            os.remove(os.path.join(images_dir, file_name))\n",
    "\n",
    "for file_name in os.listdir(texts_dir):\n",
    "    if file_name.endswith('.txt'):\n",
    "        file_id = int(os.path.splitext(file_name)[0])\n",
    "        if file_id in invalid_ids:\n",
    "            os.remove(os.path.join(texts_dir, file_name))\n",
    "\n",
    "# Reset index of the DataFrame and update the IDs\n",
    "df = df.reset_index(drop=True)\n",
    "df['id'] = df.index + 1\n",
    "\n",
    "# Rename the remaining files to match the new IDs\n",
    "for old_id, new_id in zip(sorted(valid_ids), df['id'].tolist()):\n",
    "    old_image_path = os.path.join(images_dir, f'{old_id}.jpg')\n",
    "    new_image_path = os.path.join(images_dir, f'{new_id}.jpg')\n",
    "    old_text_path = os.path.join(texts_dir, f'{old_id}.txt')\n",
    "    new_text_path = os.path.join(texts_dir, f'{new_id}.txt')\n",
    "    \n",
    "    # Rename image file if it exists\n",
    "    if os.path.isfile(old_image_path):\n",
    "        os.rename(old_image_path, new_image_path)\n",
    "    \n",
    "    # Rename text file if it exists\n",
    "    if os.path.isfile(old_text_path):\n",
    "        os.rename(old_text_path, new_text_path)\n",
    "\n",
    "# Save the updated CSV file\n",
    "df.to_csv(csv_file_path, index=False)\n",
    "\n",
    "print(f\"Cleaned and synchronized the dataset. Updated CSV file at {csv_file_path}.\")\n"
   ]
  },
  {
   "cell_type": "code",
   "execution_count": null,
   "metadata": {},
   "outputs": [],
   "source": []
  }
 ],
 "metadata": {
  "kernelspec": {
   "display_name": "Python 3",
   "language": "python",
   "name": "python3"
  },
  "language_info": {
   "codemirror_mode": {
    "name": "ipython",
    "version": 3
   },
   "file_extension": ".py",
   "mimetype": "text/x-python",
   "name": "python",
   "nbconvert_exporter": "python",
   "pygments_lexer": "ipython3",
   "version": "3.9.6"
  }
 },
 "nbformat": 4,
 "nbformat_minor": 2
}
